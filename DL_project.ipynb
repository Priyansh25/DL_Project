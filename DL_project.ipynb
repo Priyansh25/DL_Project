{
  "nbformat": 4,
  "nbformat_minor": 0,
  "metadata": {
    "colab": {
      "name": "DL_project.ipynb",
      "provenance": [],
      "collapsed_sections": [],
      "machine_shape": "hm",
      "authorship_tag": "ABX9TyN3jcmrIIWgEB4EvufWmkil",
      "include_colab_link": true
    },
    "kernelspec": {
      "name": "python3",
      "display_name": "Python 3"
    },
    "accelerator": "GPU"
  },
  "cells": [
    {
      "cell_type": "markdown",
      "metadata": {
        "id": "view-in-github",
        "colab_type": "text"
      },
      "source": [
        "<a href=\"https://colab.research.google.com/github/Priyansh25/DL_Project/blob/main/DL_project.ipynb\" target=\"_parent\"><img src=\"https://colab.research.google.com/assets/colab-badge.svg\" alt=\"Open In Colab\"/></a>"
      ]
    },
    {
      "cell_type": "code",
      "metadata": {
        "id": "RoO2sto-y1gM",
        "colab": {
          "base_uri": "https://localhost:8080/",
          "height": 124
        },
        "outputId": "36ded71e-8bad-4221-b8f5-ce5d88886608"
      },
      "source": [
        "from google.colab import drive\n",
        "drive.mount('/content/drive/')"
      ],
      "execution_count": null,
      "outputs": [
        {
          "output_type": "stream",
          "text": [
            "Go to this URL in a browser: https://accounts.google.com/o/oauth2/auth?client_id=947318989803-6bn6qk8qdgf4n4g3pfee6491hc0brc4i.apps.googleusercontent.com&redirect_uri=urn%3aietf%3awg%3aoauth%3a2.0%3aoob&response_type=code&scope=email%20https%3a%2f%2fwww.googleapis.com%2fauth%2fdocs.test%20https%3a%2f%2fwww.googleapis.com%2fauth%2fdrive%20https%3a%2f%2fwww.googleapis.com%2fauth%2fdrive.photos.readonly%20https%3a%2f%2fwww.googleapis.com%2fauth%2fpeopleapi.readonly\n",
            "\n",
            "Enter your authorization code:\n",
            "··········\n",
            "Mounted at /content/drive/\n"
          ],
          "name": "stdout"
        }
      ]
    },
    {
      "cell_type": "code",
      "metadata": {
        "id": "ZlRS646rABTz",
        "colab": {
          "base_uri": "https://localhost:8080/",
          "height": 34
        },
        "outputId": "13bc3721-538b-4d43-da8e-57cfa9d2c5a3"
      },
      "source": [
        "pip install tensorflow_estimator\n"
      ],
      "execution_count": null,
      "outputs": [
        {
          "output_type": "stream",
          "text": [
            "Requirement already satisfied: tensorflow_estimator in /usr/local/lib/python3.6/dist-packages (2.2.0rc0)\n"
          ],
          "name": "stdout"
        }
      ]
    },
    {
      "cell_type": "markdown",
      "metadata": {
        "id": "MjnGOJ9ZC4ho"
      },
      "source": [
        "# Datasets and Preprocessing"
      ]
    },
    {
      "cell_type": "code",
      "metadata": {
        "id": "Bs3GuHDbT3O5"
      },
      "source": [
        "import tensorflow as tf\n",
        "import keras"
      ],
      "execution_count": null,
      "outputs": []
    },
    {
      "cell_type": "code",
      "metadata": {
        "id": "RMdKw17mGU4c",
        "colab": {
          "base_uri": "https://localhost:8080/",
          "height": 34
        },
        "outputId": "7bcb48a0-ad54-4578-b43a-d2725a893e9a"
      },
      "source": [
        "import numpy as np\n",
        "\n",
        "from keras import models\n",
        "from keras import layers\n",
        "\n",
        "from tensorflow.keras.layers import Dense, Dropout, Flatten\n",
        "from tensorflow.keras.layers import Conv2D, MaxPooling2D\n",
        "from tensorflow.keras.optimizers import SGD"
      ],
      "execution_count": null,
      "outputs": [
        {
          "output_type": "stream",
          "text": [
            "Using TensorFlow backend.\n"
          ],
          "name": "stderr"
        }
      ]
    },
    {
      "cell_type": "code",
      "metadata": {
        "id": "cPysheAAAUSP"
      },
      "source": [
        "train_data=np.load('/content/drive/My Drive/classification data/Aug_PCB/s_x_train.npy')\n",
        "train_labels=np.load('/content/drive/My Drive/classification data/Aug_PCB/s_y_train.npy')"
      ],
      "execution_count": null,
      "outputs": []
    },
    {
      "cell_type": "code",
      "metadata": {
        "id": "xuKivpRTCRjM",
        "colab": {
          "base_uri": "https://localhost:8080/",
          "height": 156
        },
        "outputId": "2851663a-1e88-4a08-e8f4-cff2117b4c09"
      },
      "source": [
        "pip install -U keras"
      ],
      "execution_count": null,
      "outputs": [
        {
          "output_type": "stream",
          "text": [
            "Requirement already up-to-date: keras in /usr/local/lib/python3.6/dist-packages (2.3.1)\n",
            "Requirement already satisfied, skipping upgrade: six>=1.9.0 in /usr/local/lib/python3.6/dist-packages (from keras) (1.12.0)\n",
            "Requirement already satisfied, skipping upgrade: pyyaml in /usr/local/lib/python3.6/dist-packages (from keras) (3.13)\n",
            "Requirement already satisfied, skipping upgrade: scipy>=0.14 in /usr/local/lib/python3.6/dist-packages (from keras) (1.4.1)\n",
            "Requirement already satisfied, skipping upgrade: keras-preprocessing>=1.0.5 in /usr/local/lib/python3.6/dist-packages (from keras) (1.1.0)\n",
            "Requirement already satisfied, skipping upgrade: h5py in /usr/local/lib/python3.6/dist-packages (from keras) (2.10.0)\n",
            "Requirement already satisfied, skipping upgrade: keras-applications>=1.0.6 in /usr/local/lib/python3.6/dist-packages (from keras) (1.0.8)\n",
            "Requirement already satisfied, skipping upgrade: numpy>=1.9.1 in /usr/local/lib/python3.6/dist-packages (from keras) (1.18.2)\n"
          ],
          "name": "stdout"
        }
      ]
    },
    {
      "cell_type": "code",
      "metadata": {
        "id": "HETxKm7VEKn6"
      },
      "source": [
        "from tensorflow.keras.models import Sequential"
      ],
      "execution_count": null,
      "outputs": []
    },
    {
      "cell_type": "markdown",
      "metadata": {
        "id": "rfe8ZLtWDLfO"
      },
      "source": [
        "# Model"
      ]
    },
    {
      "cell_type": "code",
      "metadata": {
        "id": "M4Bna6oRELmu",
        "colab": {
          "base_uri": "https://localhost:8080/",
          "height": 434
        },
        "outputId": "2d026bf9-4c1d-40d7-8e03-774ee5b6dd3a"
      },
      "source": [
        "model = Sequential()\n",
        "\n",
        "model.add(Conv2D(6, (5,5), input_shape=(300,300,3), activation='relu', strides=(1,1), padding='valid'))\n",
        "model.add(MaxPooling2D(pool_size=(2,2), strides=(2,2)))\n",
        "\n",
        "model.add(Conv2D(16, (5,5),activation='relu', strides=(1,1), padding='valid'))\n",
        "model.add(MaxPooling2D(pool_size=(2,2), strides=(2,2)))\n",
        "\n",
        "model.add(Flatten())\n",
        "\n",
        "model.add(Dense(120, activation='relu'))\n",
        "\n",
        "model.add(Dense(84, activation='relu'))\n",
        "\n",
        "model.add(Dense(2, activation='softmax'))\n",
        "\n",
        "model.summary()"
      ],
      "execution_count": null,
      "outputs": [
        {
          "output_type": "stream",
          "text": [
            "Model: \"sequential\"\n",
            "_________________________________________________________________\n",
            "Layer (type)                 Output Shape              Param #   \n",
            "=================================================================\n",
            "conv2d (Conv2D)              (None, 296, 296, 6)       456       \n",
            "_________________________________________________________________\n",
            "max_pooling2d (MaxPooling2D) (None, 148, 148, 6)       0         \n",
            "_________________________________________________________________\n",
            "conv2d_1 (Conv2D)            (None, 144, 144, 16)      2416      \n",
            "_________________________________________________________________\n",
            "max_pooling2d_1 (MaxPooling2 (None, 72, 72, 16)        0         \n",
            "_________________________________________________________________\n",
            "flatten (Flatten)            (None, 82944)             0         \n",
            "_________________________________________________________________\n",
            "dense (Dense)                (None, 120)               9953400   \n",
            "_________________________________________________________________\n",
            "dense_1 (Dense)              (None, 84)                10164     \n",
            "_________________________________________________________________\n",
            "dense_2 (Dense)              (None, 2)                 170       \n",
            "=================================================================\n",
            "Total params: 9,966,606\n",
            "Trainable params: 9,966,606\n",
            "Non-trainable params: 0\n",
            "_________________________________________________________________\n"
          ],
          "name": "stdout"
        }
      ]
    },
    {
      "cell_type": "code",
      "metadata": {
        "id": "n0cfIRLCjF9t"
      },
      "source": [
        "from sklearn.model_selection import train_test_split"
      ],
      "execution_count": null,
      "outputs": []
    },
    {
      "cell_type": "code",
      "metadata": {
        "id": "xnr3Swp7j7F8"
      },
      "source": [
        "x_train,x_test,y_train,y_test=train_test_split(train_data,train_labels,test_size=0.3)"
      ],
      "execution_count": null,
      "outputs": []
    },
    {
      "cell_type": "markdown",
      "metadata": {
        "id": "_OYVLv4SDZG_"
      },
      "source": [
        "# Compile and Training the model"
      ]
    },
    {
      "cell_type": "code",
      "metadata": {
        "id": "_AV_7BHI7qzP",
        "colab": {
          "base_uri": "https://localhost:8080/",
          "height": 712
        },
        "outputId": "987503cb-aa98-4dd4-f899-1dbf5320511b"
      },
      "source": [
        "model.compile(loss=\"sparse_categorical_crossentropy\", optimizer=\"sgd\", metrics=['accuracy'])\n",
        "history=model.fit(x_train,y_train,validation_split=(0.2), batch_size=256,epochs=20, verbose=1)"
      ],
      "execution_count": null,
      "outputs": [
        {
          "output_type": "stream",
          "text": [
            "Epoch 1/20\n",
            "12/12 [==============================] - 3s 277ms/step - loss: 0.6833 - accuracy: 0.6123 - val_loss: 0.6716 - val_accuracy: 0.5836\n",
            "Epoch 2/20\n",
            "12/12 [==============================] - 2s 193ms/step - loss: 0.6489 - accuracy: 0.6782 - val_loss: 0.6231 - val_accuracy: 0.7068\n",
            "Epoch 3/20\n",
            "12/12 [==============================] - 2s 191ms/step - loss: 0.6017 - accuracy: 0.6899 - val_loss: 0.5654 - val_accuracy: 0.7337\n",
            "Epoch 4/20\n",
            "12/12 [==============================] - 2s 193ms/step - loss: 0.5733 - accuracy: 0.7197 - val_loss: 0.5505 - val_accuracy: 0.7465\n",
            "Epoch 5/20\n",
            "12/12 [==============================] - 2s 194ms/step - loss: 0.4883 - accuracy: 0.7736 - val_loss: 0.4930 - val_accuracy: 0.7819\n",
            "Epoch 6/20\n",
            "12/12 [==============================] - 2s 192ms/step - loss: 0.4653 - accuracy: 0.7789 - val_loss: 0.4972 - val_accuracy: 0.7309\n",
            "Epoch 7/20\n",
            "12/12 [==============================] - 2s 192ms/step - loss: 0.4227 - accuracy: 0.8094 - val_loss: 0.9896 - val_accuracy: 0.6076\n",
            "Epoch 8/20\n",
            "12/12 [==============================] - 2s 192ms/step - loss: 0.5753 - accuracy: 0.6945 - val_loss: 0.4874 - val_accuracy: 0.7932\n",
            "Epoch 9/20\n",
            "12/12 [==============================] - 2s 195ms/step - loss: 0.4004 - accuracy: 0.8483 - val_loss: 0.5085 - val_accuracy: 0.7011\n",
            "Epoch 10/20\n",
            "12/12 [==============================] - 2s 191ms/step - loss: 0.4366 - accuracy: 0.8264 - val_loss: 0.9163 - val_accuracy: 0.5057\n",
            "Epoch 11/20\n",
            "12/12 [==============================] - 2s 192ms/step - loss: 0.3920 - accuracy: 0.8451 - val_loss: 0.7277 - val_accuracy: 0.7309\n",
            "Epoch 12/20\n",
            "12/12 [==============================] - 2s 190ms/step - loss: 0.3417 - accuracy: 0.8579 - val_loss: 0.3547 - val_accuracy: 0.8598\n",
            "Epoch 13/20\n",
            "12/12 [==============================] - 2s 192ms/step - loss: 0.2974 - accuracy: 0.8799 - val_loss: 0.4616 - val_accuracy: 0.7805\n",
            "Epoch 14/20\n",
            "12/12 [==============================] - 2s 193ms/step - loss: 0.2994 - accuracy: 0.8965 - val_loss: 0.9067 - val_accuracy: 0.5269\n",
            "Epoch 15/20\n",
            "12/12 [==============================] - 2s 192ms/step - loss: 0.3347 - accuracy: 0.8735 - val_loss: 0.3382 - val_accuracy: 0.8796\n",
            "Epoch 16/20\n",
            "12/12 [==============================] - 2s 191ms/step - loss: 0.2394 - accuracy: 0.9153 - val_loss: 0.2842 - val_accuracy: 0.9037\n",
            "Epoch 17/20\n",
            "12/12 [==============================] - 2s 194ms/step - loss: 0.2111 - accuracy: 0.9220 - val_loss: 0.3778 - val_accuracy: 0.8711\n",
            "Epoch 18/20\n",
            "12/12 [==============================] - 2s 194ms/step - loss: 0.3478 - accuracy: 0.8678 - val_loss: 0.2881 - val_accuracy: 0.9093\n",
            "Epoch 19/20\n",
            "12/12 [==============================] - 2s 192ms/step - loss: 0.1861 - accuracy: 0.9309 - val_loss: 0.3140 - val_accuracy: 0.8824\n",
            "Epoch 20/20\n",
            "12/12 [==============================] - 2s 184ms/step - loss: 0.1901 - accuracy: 0.9242 - val_loss: 0.2533 - val_accuracy: 0.9178\n"
          ],
          "name": "stdout"
        }
      ]
    },
    {
      "cell_type": "markdown",
      "metadata": {
        "id": "GoJ87C5aDfQR"
      },
      "source": [
        "# Evaluate"
      ]
    },
    {
      "cell_type": "code",
      "metadata": {
        "id": "LMFb-yGhF-T6",
        "colab": {
          "base_uri": "https://localhost:8080/",
          "height": 106
        },
        "outputId": "e759884c-b67f-4c35-91ed-7e1b4c99e287"
      },
      "source": [
        "PREDICTED_CLASSES=model.predict_classes(x_test) \n",
        "temp = sum(y_test== PREDICTED_CLASSES)\n",
        "acc=temp/len(y_test)\n",
        "print(' model\\'s accuracy: {:5.2f}%'.format(100*acc))"
      ],
      "execution_count": null,
      "outputs": [
        {
          "output_type": "stream",
          "text": [
            "WARNING:tensorflow:From <ipython-input-10-8a853a53149c>:1: Sequential.predict_classes (from tensorflow.python.keras.engine.sequential) is deprecated and will be removed after 2021-01-01.\n",
            "Instructions for updating:\n",
            "Please use instead:* `np.argmax(model.predict(x), axis=-1)`,   if your model does multi-class classification   (e.g. if it uses a `softmax` last-layer activation).* `(model.predict(x) > 0.5).astype(\"int32\")`,   if your model does binary classification   (e.g. if it uses a `sigmoid` last-layer activation).\n",
            " model's accuracy: 90.54%\n"
          ],
          "name": "stdout"
        }
      ]
    },
    {
      "cell_type": "code",
      "metadata": {
        "id": "iXMiJQDrnrjV"
      },
      "source": [
        "from keras import models\n",
        "from tensorflow.keras.models import Sequential\n",
        "from sklearn.metrics import classification_report, confusion_matrix,accuracy_score,plot_confusion_matrix"
      ],
      "execution_count": null,
      "outputs": []
    },
    {
      "cell_type": "code",
      "metadata": {
        "id": "lxyIOyY1nsUs",
        "colab": {
          "base_uri": "https://localhost:8080/",
          "height": 399
        },
        "outputId": "c9e97cbb-8461-40b9-8ffa-4c3acd73e7ac"
      },
      "source": [
        "PREDICTED_CLASSES=model.predict_classes(x_test) \n",
        "target_names = ['Defective', 'Non-Defective']\n",
        "print(\"Confusion Matrix : \")\n",
        "conf=confusion_matrix(y_test,PREDICTED_CLASSES,)\n",
        "print(conf)\n",
        "\n",
        "tn, fp, fn, tp = conf.ravel()\n",
        "print(\"\\nTrue Negatives: \",tn)\n",
        "print(\"False Positives: \",fp)\n",
        "print(\"False Negatives: \",fn)\n",
        "print(\"True Positives: \",tp)\n",
        "\n",
        "print(\"\\nDefective accuracy :\" ,100*(tn/(tn+fp)))\n",
        "print(\"Non-Defective accuracy :\",100*(tp/(tp+fn)))\n",
        "\n",
        "print(\"\\nReport : \")\n",
        "print(classification_report(y_test,PREDICTED_CLASSES, target_names=target_names))"
      ],
      "execution_count": null,
      "outputs": [
        {
          "output_type": "stream",
          "text": [
            "Confusion Matrix : \n",
            "[[760  16]\n",
            " [127 609]]\n",
            "\n",
            "True Negatives:  760\n",
            "False Positives:  16\n",
            "False Negatives:  127\n",
            "True Positives:  609\n",
            "\n",
            "Defective accuracy : 97.9381443298969\n",
            "Non-Defective accuracy : 82.74456521739131\n",
            "\n",
            "Report : \n",
            "              precision    recall  f1-score   support\n",
            "\n",
            "     class 0       0.86      0.98      0.91       776\n",
            "     class 1       0.97      0.83      0.89       736\n",
            "\n",
            "    accuracy                           0.91      1512\n",
            "   macro avg       0.92      0.90      0.90      1512\n",
            "weighted avg       0.91      0.91      0.90      1512\n",
            "\n"
          ],
          "name": "stdout"
        }
      ]
    },
    {
      "cell_type": "markdown",
      "metadata": {
        "id": "vzCxSP0IDk8I"
      },
      "source": [
        "# Saving the model"
      ]
    },
    {
      "cell_type": "code",
      "metadata": {
        "id": "yh9hzdpJ3Cpe",
        "colab": {
          "base_uri": "https://localhost:8080/",
          "height": 34
        },
        "outputId": "bd4627b2-6713-4bfe-c697-a99590635ebb"
      },
      "source": [
        "model.save('/content/drive/My Drive/DL/my_model')"
      ],
      "execution_count": null,
      "outputs": [
        {
          "output_type": "stream",
          "text": [
            "INFO:tensorflow:Assets written to: /content/drive/My Drive/DL/my_model/assets\n"
          ],
          "name": "stdout"
        }
      ]
    },
    {
      "cell_type": "markdown",
      "metadata": {
        "id": "9YQH8BZ1fPgo"
      },
      "source": [
        "# Restoring the saved model"
      ]
    },
    {
      "cell_type": "code",
      "metadata": {
        "id": "CIVGnmY0491E",
        "colab": {
          "base_uri": "https://localhost:8080/",
          "height": 434
        },
        "outputId": "650cdf46-9e69-4626-c916-74f11cecf7b3"
      },
      "source": [
        "new_model = tf.keras.models.load_model('/content/drive/My Drive/DL/my_model')\n",
        "\n",
        "# Check its architecture\n",
        "new_model.summary()"
      ],
      "execution_count": null,
      "outputs": [
        {
          "output_type": "stream",
          "text": [
            "Model: \"sequential\"\n",
            "_________________________________________________________________\n",
            "Layer (type)                 Output Shape              Param #   \n",
            "=================================================================\n",
            "conv2d (Conv2D)              (None, 296, 296, 6)       456       \n",
            "_________________________________________________________________\n",
            "max_pooling2d (MaxPooling2D) (None, 148, 148, 6)       0         \n",
            "_________________________________________________________________\n",
            "conv2d_1 (Conv2D)            (None, 144, 144, 16)      2416      \n",
            "_________________________________________________________________\n",
            "max_pooling2d_1 (MaxPooling2 (None, 72, 72, 16)        0         \n",
            "_________________________________________________________________\n",
            "flatten (Flatten)            (None, 82944)             0         \n",
            "_________________________________________________________________\n",
            "dense (Dense)                (None, 120)               9953400   \n",
            "_________________________________________________________________\n",
            "dense_1 (Dense)              (None, 84)                10164     \n",
            "_________________________________________________________________\n",
            "dense_2 (Dense)              (None, 2)                 170       \n",
            "=================================================================\n",
            "Total params: 9,966,606\n",
            "Trainable params: 9,966,606\n",
            "Non-trainable params: 0\n",
            "_________________________________________________________________\n"
          ],
          "name": "stdout"
        }
      ]
    },
    {
      "cell_type": "markdown",
      "metadata": {
        "id": "hbzIookrfcSJ"
      },
      "source": [
        "# Evaluate the restored model on Raw_PCB data\n"
      ]
    },
    {
      "cell_type": "code",
      "metadata": {
        "id": "50v27tXzHHB2"
      },
      "source": [
        "test_data = np.load('/content/drive/My Drive/classification data/Raw_PCB/s_x_train.npy')\n",
        "test_labels = np.load('/content/drive/My Drive/classification data/Raw_PCB/s_y_train.npy')"
      ],
      "execution_count": null,
      "outputs": []
    },
    {
      "cell_type": "code",
      "metadata": {
        "id": "JebttHWxI3FV"
      },
      "source": [
        "from keras import models\n",
        "from tensorflow.keras.models import Sequential\n",
        "from sklearn.metrics import classification_report, confusion_matrix"
      ],
      "execution_count": null,
      "outputs": []
    },
    {
      "cell_type": "code",
      "metadata": {
        "id": "KJ2c5qV_GX-B",
        "colab": {
          "base_uri": "https://localhost:8080/",
          "height": 471
        },
        "outputId": "55c71380-f98e-466c-d5e9-af6aca7ca854"
      },
      "source": [
        "# Evaluate the restored model\n",
        "PREDICTED_CLASSES=new_model.predict_classes(test_data) \n",
        "target_names = ['Defective', 'Non-Defective']\n",
        "print(\"Confusion Matrix : \")\n",
        "conf=confusion_matrix(test_labels,PREDICTED_CLASSES,)\n",
        "print(conf)\n",
        "\n",
        "tn, fp, fn, tp = conf.ravel()\n",
        "print(\"\\nTrue Negatives: \",tn)\n",
        "print(\"False Positives: \",fp)\n",
        "print(\"False Negatives: \",fn)\n",
        "print(\"True Positives: \",tp)\n",
        "\n",
        "print(\"\\nDefective accuracy :\" ,100*(tn/(tn+fp)))\n",
        "print(\"Non-Defective accuracy :\",100*(tp/(tp+fn)))\n",
        "\n",
        "print(\"\\nReport : \")\n",
        "print(classification_report(test_labels,PREDICTED_CLASSES, target_names=target_names))"
      ],
      "execution_count": null,
      "outputs": [
        {
          "output_type": "stream",
          "text": [
            "WARNING:tensorflow:From <ipython-input-12-614d5b41c329>:1: Sequential.predict_classes (from tensorflow.python.keras.engine.sequential) is deprecated and will be removed after 2021-01-01.\n",
            "Instructions for updating:\n",
            "Please use instead:* `np.argmax(model.predict(x), axis=-1)`,   if your model does multi-class classification   (e.g. if it uses a `softmax` last-layer activation).* `(model.predict(x) > 0.5).astype(\"int32\")`,   if your model does binary classification   (e.g. if it uses a `sigmoid` last-layer activation).\n",
            "Confusion Matrix : \n",
            "[[ 149    0]\n",
            " [ 493 2027]]\n",
            "\n",
            "True Negatives:  149\n",
            "False Positives:  0\n",
            "False Negatives:  493\n",
            "True Positives:  2027\n",
            "\n",
            "Defective accuracy : 100.0\n",
            "Non-Defective accuracy : 80.43650793650794\n",
            "\n",
            "Report : \n",
            "               precision    recall  f1-score   support\n",
            "\n",
            "    Defective       0.23      1.00      0.38       149\n",
            "Non-Defective       1.00      0.80      0.89      2520\n",
            "\n",
            "     accuracy                           0.82      2669\n",
            "    macro avg       0.62      0.90      0.63      2669\n",
            " weighted avg       0.96      0.82      0.86      2669\n",
            "\n"
          ],
          "name": "stdout"
        }
      ]
    }
  ]
}